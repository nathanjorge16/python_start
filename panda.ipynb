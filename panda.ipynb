{
 "cells": [
  {
   "cell_type": "code",
   "execution_count": null,
   "id": "6061cb51-286e-4371-870d-3d22d5e27c8d",
   "metadata": {
    "editable": true,
    "slideshow": {
     "slide_type": ""
    },
    "tags": []
   },
   "outputs": [],
   "source": [
    "import pandas as pd"
   ]
  },
  {
   "cell_type": "code",
   "execution_count": null,
   "id": "36449da8-d5e8-41a0-ba6a-aade2f2e983e",
   "metadata": {
    "scrolled": true
   },
   "outputs": [],
   "source": [
    "dados = pd.read_csv('fifa.csv')\n",
    "dados"
   ]
  },
  {
   "cell_type": "code",
   "execution_count": null,
   "id": "5034711e-b774-4ac7-b049-85a4db7805cd",
   "metadata": {},
   "outputs": [],
   "source": [
    "dados.head(2) #primeiros dados\n",
    "dados.tail(2) # ultimos dados"
   ]
  },
  {
   "cell_type": "code",
   "execution_count": null,
   "id": "3300db0e-a33f-4191-8076-729e51868d58",
   "metadata": {},
   "outputs": [],
   "source": [
    "dados.columns # Nome das colunas"
   ]
  },
  {
   "cell_type": "code",
   "execution_count": null,
   "id": "9c2f4194-106e-452e-8ce6-83420ea09447",
   "metadata": {},
   "outputs": [],
   "source": [
    "dados[['Name','Age']] # FILTRAR COLUNAS: apenas as colunas desejadas"
   ]
  },
  {
   "cell_type": "code",
   "execution_count": null,
   "id": "b1626708-1c9f-4e1a-985b-029652775730",
   "metadata": {},
   "outputs": [],
   "source": [
    "dados.iloc[2,2]  # procurar atráves de linha e coluna"
   ]
  },
  {
   "cell_type": "code",
   "execution_count": null,
   "id": "b1dc7a37-9123-49e7-bd1b-1e8a6935b63e",
   "metadata": {},
   "outputs": [],
   "source": [
    "dados.loc[dados['Nationality']=='Brazil'] # FILTRO valor  - na coluna Nationality filtrar apenas a string Brazil"
   ]
  },
  {
   "cell_type": "code",
   "execution_count": null,
   "id": "c4f6d321-49b6-4572-a0cc-1d5ebd03b48f",
   "metadata": {},
   "outputs": [],
   "source": [
    "dados.sort_values('Name')  # colocar em ordem alfab. pela coluna Name"
   ]
  },
  {
   "cell_type": "code",
   "execution_count": null,
   "id": "856cf5d2-5627-4682-979c-bfaaf680598e",
   "metadata": {},
   "outputs": [],
   "source": [
    "#exemplo de salvamento\n",
    "dados.to_csv('caminho/para/salvar/arquivo.csv', index=False, sep=';', encoding='utf-8', decimal='.')"
   ]
  },
  {
   "cell_type": "code",
   "execution_count": null,
   "id": "be2e5553-22f2-4ea7-bdf8-9e5550924b45",
   "metadata": {},
   "outputs": [],
   "source": [
    "#criação de colunas\n",
    "dados['total'] = dados ['Acceleration']+ dados['Agility'] + dados ['Stamina']"
   ]
  },
  {
   "cell_type": "code",
   "execution_count": null,
   "id": "f293c325-aa6a-43e0-b613-855a46f36f26",
   "metadata": {},
   "outputs": [],
   "source": [
    "#alterar dados \n",
    "alter = dados.loc[dados['SellerG']== 'Nelson', 'SellerG']= 'Ronald'\n"
   ]
  },
  {
   "cell_type": "code",
   "execution_count": null,
   "id": "2388407c-f6a7-4b23-8b7c-ee3031afcdb6",
   "metadata": {},
   "outputs": [],
   "source": [
    "''' \n",
    "Filtra apenas na coluna Address onde aparecer Turner st ou Turner rd, se estiver com maisculo ou minusculo \n",
    "utilizando a expressão flags =re, da library re\n",
    "'''\n",
    "import re\n",
    "\n",
    "filter2 = df.loc[df['Address'].str.contains('Turner st|Turner Rd', flags=re.I)]\n",
    "filter2"
   ]
  },
  {
   "cell_type": "code",
   "execution_count": null,
   "id": "42c071f6-6865-4549-ad3f-0cbdd3521880",
   "metadata": {},
   "outputs": [],
   "source": [
    "#filtro igual o anterior, mas filtrando agora a coluna Price dos valores menores que 550 mil\n",
    "filter3 = df.loc[df['Address'].str.contains('^59', flags=re.I) & (df['Price'] <= 550000)]\n",
    "filter3"
   ]
  }
 ],
 "metadata": {
  "kernelspec": {
   "display_name": "Python 3 (ipykernel)",
   "language": "python",
   "name": "python3"
  },
  "language_info": {
   "codemirror_mode": {
    "name": "ipython",
    "version": 3
   },
   "file_extension": ".py",
   "mimetype": "text/x-python",
   "name": "python",
   "nbconvert_exporter": "python",
   "pygments_lexer": "ipython3",
   "version": "3.12.4"
  }
 },
 "nbformat": 4,
 "nbformat_minor": 5
}
