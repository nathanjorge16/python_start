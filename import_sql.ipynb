{
 "cells": [
  {
   "cell_type": "code",
   "execution_count": null,
   "id": "18c190c9-a081-4bad-a839-5b08b2f6cce1",
   "metadata": {},
   "outputs": [],
   "source": [
    "import pandas as pd\n",
    "import psycopg2\n",
    "from sqlalchemy import create_engine"
   ]
  },
  {
   "cell_type": "code",
   "execution_count": null,
   "id": "e23e6500-1307-422f-9816-ba1078517e45",
   "metadata": {},
   "outputs": [],
   "source": [
    "# Configurações do banco de dados\n",
    "host = \"10.14.2.29\"   \n",
    "port = \"5432\"         \n",
    "database = \"GEPPI\"    \n",
    "user = \"seu_usuario\"  \n",
    "password = \"sua_senha\"  "
   ]
  },
  {
   "cell_type": "code",
   "execution_count": null,
   "id": "969ce707-77e8-4337-8f44-7c8c406bb407",
   "metadata": {},
   "outputs": [],
   "source": [
    "# Criar conexão com o banco de dados usando SQLAlchemy\n",
    "engine = create_engine(f'postgresql+psycopg2://{user}:{password}@{host}:{port}/{database}')"
   ]
  },
  {
   "cell_type": "code",
   "execution_count": null,
   "id": "bdcd9ec2-2b92-4601-811b-7cf98e5ad71c",
   "metadata": {},
   "outputs": [],
   "source": [
    "# Definir o schema e carregar a tabela para um DataFrame Pandas\n",
    "schema = \"transporte_intermunicipal\"  # Defina o schema desejado\n",
    "tabela = \"tb_intermun\""
   ]
  },
  {
   "cell_type": "code",
   "execution_count": null,
   "id": "abd1fd5e-e1a4-4023-8ba6-bae0cf34f748",
   "metadata": {},
   "outputs": [],
   "source": [
    "df = pd.read_sql(f'SELECT * FROM {schema}.{tabela}', con=engine)\n",
    "df"
   ]
  }
 ],
 "metadata": {
  "kernelspec": {
   "display_name": "Python 3 (ipykernel)",
   "language": "python",
   "name": "python3"
  },
  "language_info": {
   "codemirror_mode": {
    "name": "ipython",
    "version": 3
   },
   "file_extension": ".py",
   "mimetype": "text/x-python",
   "name": "python",
   "nbconvert_exporter": "python",
   "pygments_lexer": "ipython3",
   "version": "3.12.4"
  }
 },
 "nbformat": 4,
 "nbformat_minor": 5
}
